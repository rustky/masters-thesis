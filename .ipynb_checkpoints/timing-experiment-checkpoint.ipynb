{
 "cells": [
  {
   "cell_type": "code",
   "execution_count": 1,
   "id": "cc025cf4",
   "metadata": {},
   "outputs": [],
   "source": [
    "import pandas as pd\n",
    "import numpy as np\n",
    "import torch\n",
    "import math"
   ]
  },
  {
   "cell_type": "code",
   "execution_count": 14,
   "id": "507110d3",
   "metadata": {},
   "outputs": [
    {
     "data": {
      "text/plain": [
       "array([1.  , 1.25, 1.5 , 1.75, 2.  , 2.25, 2.5 , 2.75, 3.  , 3.25, 3.5 ,\n",
       "       3.75, 4.  , 4.25, 4.5 , 4.75, 5.  , 5.25, 5.5 , 5.75, 6.  , 6.25,\n",
       "       6.5 , 6.75])"
      ]
     },
     "execution_count": 14,
     "metadata": {},
     "output_type": "execute_result"
    }
   ],
   "source": [
    "exponents = np.arange(1,7,.25)\n",
    "exponents"
   ]
  },
  {
   "cell_type": "code",
   "execution_count": 20,
   "id": "2abd3969",
   "metadata": {},
   "outputs": [
    {
     "name": "stdout",
     "output_type": "stream",
     "text": [
      "[10, 18, 32, 56, 100, 178, 316, 562, 1000, 1778, 3162, 5624, 10000, 17782, 31622, 56234, 100000, 177828, 316228, 562342, 1000000, 1778280, 3162278, 5623414]\n"
     ]
    }
   ],
   "source": [
    "num_data_points = []\n",
    "data_list = []\n",
    "for i in range(len(exponents)):\n",
    "    num_data_points.append(math.ceil(10**exponents[i]))\n",
    "    if num_data_points[i] % 2 != 0:\n",
    "        num_data_points[i] = num_data_points[i] - 1\n",
    "    tensor = torch.from_numpy(np.random.standard_normal(num_data_points[i]))\n",
    "    data_list.append(tensor.type(torch.DoubleTensor))\n",
    "print(num_data_points)"
   ]
  },
  {
   "cell_type": "code",
   "execution_count": 21,
   "id": "2f140ec4",
   "metadata": {},
   "outputs": [
    {
     "name": "stdout",
     "output_type": "stream",
     "text": [
      "10\n",
      "18\n",
      "32\n",
      "56\n",
      "100\n",
      "178\n",
      "316\n",
      "562\n",
      "1000\n",
      "1778\n",
      "3162\n",
      "5624\n",
      "10000\n",
      "17782\n",
      "31622\n",
      "56234\n",
      "100000\n",
      "177828\n",
      "316228\n",
      "562342\n",
      "1000000\n",
      "1778280\n",
      "3162278\n",
      "5623414\n"
     ]
    }
   ],
   "source": [
    "label_list = []\n",
    "for j in num_data_points:\n",
    "    temp = torch.from_numpy(np.repeat([0,1], j/2))\n",
    "    print(len(temp))\n",
    "    label_list.append(temp.type(torch.DoubleTensor))"
   ]
  },
  {
   "cell_type": "code",
   "execution_count": 29,
   "id": "8872ee43",
   "metadata": {},
   "outputs": [],
   "source": [
    "# time_exp = np.arange(-5,0.5,0.5)\n",
    "# time_exp\n",
    "# time_limits = []\n",
    "# for k in time_exp:\n",
    "#     time_limits.append(10**k)\n",
    "time_limit = 1"
   ]
  },
  {
   "cell_type": "code",
   "execution_count": 23,
   "id": "79312a25",
   "metadata": {},
   "outputs": [],
   "source": [
    "from square_loss import square_loss\n",
    "from squared_hinge_loss import squared_hinge_loss\n",
    "from naive_square_loss import naive_square_loss\n",
    "from naive_square_hinge_loss import naive_square_hinge_loss\n",
    "from torch.nn import BCEWithLogitsLoss as logisitic_loss"
   ]
  },
  {
   "cell_type": "code",
   "execution_count": 24,
   "id": "a5f16a89",
   "metadata": {},
   "outputs": [],
   "source": [
    "log_loss = logisitic_loss()\n",
    "loss_dict ={\n",
    "    \"naive_square\": naive_square_loss,\n",
    "    \"naive_square_hinge\": naive_square_hinge_loss,\n",
    "    \"square_loss\":square_loss,\n",
    "    \"squared_hinge_loss\": squared_hinge_loss,\n",
    "    \"logistic_loss\": log_loss\n",
    "}"
   ]
  },
  {
   "cell_type": "code",
   "execution_count": 25,
   "id": "d06a7aad",
   "metadata": {},
   "outputs": [],
   "source": [
    "import time"
   ]
  },
  {
   "cell_type": "code",
   "execution_count": 30,
   "id": "38888e82",
   "metadata": {},
   "outputs": [
    {
     "name": "stdout",
     "output_type": "stream",
     "text": [
      "naive_square\n",
      "time too big\n",
      "naive_square_hinge\n",
      "time too big\n",
      "square_loss\n",
      "squared_hinge_loss\n",
      "time too big\n",
      "logistic_loss\n"
     ]
    }
   ],
   "source": [
    "times_dict_list = []\n",
    "for loss_name, loss_fun in loss_dict.items():\n",
    "    print(loss_name)\n",
    "    for iter in range(10):\n",
    "        for x in range(len(data_list)):\n",
    "    #             print(num_data_points[x])\n",
    "            time_vec = np.zeros(10)\n",
    "#                 print(iter)\n",
    "            start_time = time.time()\n",
    "            if loss_name not in [\"logistic_loss\"]:\n",
    "                loss = loss_fun(data_list[x], label_list[x], 1)\n",
    "            else:\n",
    "                loss = loss_fun(data_list[x], label_list[x])\n",
    "            time_vec[iter] = time.time() - start_time\n",
    "        if (np.median(time_vec) > time_limit):\n",
    "            print(\"time too big\")\n",
    "            max_dict = {\n",
    "                \"loss_name\": loss_name,\n",
    "                \"max_time\": np.max(time_vec),\n",
    "                \"min_time\": np.min(time_vec),\n",
    "                \"median_time\": np.median(time_vec),\n",
    "                \"data_size\": num_data_points[x],\n",
    "                \"time_limit\":times\n",
    "            }\n",
    "            times_dict_list.append(pd.DataFrame(max_dict,index=[0]))\n",
    "        \n"
   ]
  },
  {
   "cell_type": "code",
   "execution_count": 31,
   "id": "2335f991",
   "metadata": {},
   "outputs": [],
   "source": [
    "full_dt = pd.concat(times_dict_list)"
   ]
  },
  {
   "cell_type": "code",
   "execution_count": 32,
   "id": "f509e338",
   "metadata": {},
   "outputs": [
    {
     "data": {
      "text/html": [
       "<div>\n",
       "<style scoped>\n",
       "    .dataframe tbody tr th:only-of-type {\n",
       "        vertical-align: middle;\n",
       "    }\n",
       "\n",
       "    .dataframe tbody tr th {\n",
       "        vertical-align: top;\n",
       "    }\n",
       "\n",
       "    .dataframe thead th {\n",
       "        text-align: right;\n",
       "    }\n",
       "</style>\n",
       "<table border=\"1\" class=\"dataframe\">\n",
       "  <thead>\n",
       "    <tr style=\"text-align: right;\">\n",
       "      <th></th>\n",
       "      <th>loss_name</th>\n",
       "      <th>max_time</th>\n",
       "      <th>min_time</th>\n",
       "      <th>median_time</th>\n",
       "      <th>data_size</th>\n",
       "      <th>time_limit</th>\n",
       "    </tr>\n",
       "  </thead>\n",
       "  <tbody>\n",
       "    <tr>\n",
       "      <th>0</th>\n",
       "      <td>naive_square</td>\n",
       "      <td>3.133287</td>\n",
       "      <td>3.106117</td>\n",
       "      <td>3.125668</td>\n",
       "      <td>1000</td>\n",
       "      <td>1.0</td>\n",
       "    </tr>\n",
       "    <tr>\n",
       "      <th>0</th>\n",
       "      <td>naive_square_hinge</td>\n",
       "      <td>1.311262</td>\n",
       "      <td>1.253183</td>\n",
       "      <td>1.266807</td>\n",
       "      <td>562</td>\n",
       "      <td>1.0</td>\n",
       "    </tr>\n",
       "    <tr>\n",
       "      <th>0</th>\n",
       "      <td>squared_hinge_loss</td>\n",
       "      <td>1.125450</td>\n",
       "      <td>1.069735</td>\n",
       "      <td>1.084981</td>\n",
       "      <td>100000</td>\n",
       "      <td>1.0</td>\n",
       "    </tr>\n",
       "  </tbody>\n",
       "</table>\n",
       "</div>"
      ],
      "text/plain": [
       "            loss_name  max_time  min_time  median_time  data_size  time_limit\n",
       "0        naive_square  3.133287  3.106117     3.125668       1000         1.0\n",
       "0  naive_square_hinge  1.311262  1.253183     1.266807        562         1.0\n",
       "0  squared_hinge_loss  1.125450  1.069735     1.084981     100000         1.0"
      ]
     },
     "execution_count": 32,
     "metadata": {},
     "output_type": "execute_result"
    }
   ],
   "source": [
    "full_dt"
   ]
  },
  {
   "cell_type": "code",
   "execution_count": null,
   "id": "f60a2b6c",
   "metadata": {},
   "outputs": [],
   "source": []
  },
  {
   "cell_type": "code",
   "execution_count": 28,
   "id": "eb1b0c8e",
   "metadata": {},
   "outputs": [],
   "source": [
    "full_dt.to_csv(\"timing_data.csv\")"
   ]
  },
  {
   "cell_type": "code",
   "execution_count": null,
   "id": "ca3a8d52",
   "metadata": {},
   "outputs": [],
   "source": []
  }
 ],
 "metadata": {
  "kernelspec": {
   "display_name": "Python 3 (ipykernel)",
   "language": "python",
   "name": "python3"
  },
  "language_info": {
   "codemirror_mode": {
    "name": "ipython",
    "version": 3
   },
   "file_extension": ".py",
   "mimetype": "text/x-python",
   "name": "python",
   "nbconvert_exporter": "python",
   "pygments_lexer": "ipython3",
   "version": "3.9.5"
  }
 },
 "nbformat": 4,
 "nbformat_minor": 5
}
